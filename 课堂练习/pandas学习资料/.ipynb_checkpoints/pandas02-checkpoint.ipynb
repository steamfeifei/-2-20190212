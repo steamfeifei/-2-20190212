{
 "cells": [
  {
   "cell_type": "markdown",
   "metadata": {},
   "source": [
    "# 分组\n",
    "任何分组(groupby)操作都涉及原始对象的以下操作之一。它们是:\n",
    "1,分割对象\n",
    "2,应用一个函数\n",
    "3,结合的结果\n",
    "在许多情况下，我们将数据分成多个集合，并在每个子集上应用一些函数。\n",
    "在应用函数中，可以执行以下操作:\n",
    "1,聚合,计算汇总统计\n",
    "2,转换,执行一些特定于组的操作\n",
    "3,过滤,在某些情况下丢弃数据"
   ]
  },
  {
   "cell_type": "code",
   "execution_count": 2,
   "metadata": {},
   "outputs": [],
   "source": [
    "import pandas as pd\n",
    "import numpy as np\n"
   ]
  },
  {
   "cell_type": "code",
   "execution_count": 3,
   "metadata": {},
   "outputs": [
    {
     "name": "stdout",
     "output_type": "stream",
     "text": [
      "      Team  Rank  Year  Points\n",
      "0   Riders     1  2014     876\n",
      "1   Riders     2  2015     789\n",
      "2   Devils     2  2014     863\n",
      "3   Devils     3  2015     673\n",
      "4    Kings     3  2014     741\n",
      "5    kings     4  2015     812\n",
      "6    Kings     1  2016     756\n",
      "7    Kings     1  2017     788\n",
      "8   Riders     2  2016     694\n",
      "9   Royals     4  2014     701\n",
      "10  Royals     1  2015     804\n",
      "11  Riders     2  2017     690\n"
     ]
    }
   ],
   "source": [
    "import pandas as pd\n",
    "\n",
    "ipl_data = {'Team': ['Riders', 'Riders', 'Devils', 'Devils', 'Kings',\n",
    "         'kings', 'Kings', 'Kings', 'Riders', 'Royals', 'Royals', 'Riders'],\n",
    "         'Rank': [1, 2, 2, 3, 3,4 ,1 ,1,2 , 4,1,2],\n",
    "         'Year': [2014,2015,2014,2015,2014,2015,2016,2017,2016,2014,2015,2017],\n",
    "         'Points':[876,789,863,673,741,812,756,788,694,701,804,690]}\n",
    "df = pd.DataFrame(ipl_data)\n",
    "print(df)"
   ]
  },
  {
   "cell_type": "markdown",
   "metadata": {},
   "source": [
    "# 将数据拆分成组\n",
    "Pandas对象可以分成任何对象。有多种方式来拆分对象，如 \n",
    "obj.groupby(‘key’)\n",
    "obj.groupby([‘key1’,’key2’])\n",
    "obj.groupby(key,axis=1)"
   ]
  },
  {
   "cell_type": "code",
   "execution_count": 4,
   "metadata": {},
   "outputs": [
    {
     "name": "stdout",
     "output_type": "stream",
     "text": [
      "<pandas.core.groupby.generic.DataFrameGroupBy object at 0x0000021E2B248BA8>\n"
     ]
    }
   ],
   "source": [
    "print(df.groupby('Team'))"
   ]
  },
  {
   "cell_type": "markdown",
   "metadata": {},
   "source": [
    "# 查看分组"
   ]
  },
  {
   "cell_type": "code",
   "execution_count": 18,
   "metadata": {},
   "outputs": [
    {
     "name": "stdout",
     "output_type": "stream",
     "text": [
      "{'Devils': Int64Index([2, 3], dtype='int64'), 'Kings': Int64Index([4, 6, 7], dtype='int64'), 'Riders': Int64Index([0, 1, 8, 11], dtype='int64'), 'Royals': Int64Index([9, 10], dtype='int64'), 'kings': Int64Index([5], dtype='int64')}\n"
     ]
    }
   ],
   "source": [
    "print(df.groupby('Team').groups)"
   ]
  },
  {
   "cell_type": "code",
   "execution_count": 19,
   "metadata": {},
   "outputs": [
    {
     "name": "stdout",
     "output_type": "stream",
     "text": [
      "{('Devils', 2014): Int64Index([2], dtype='int64'), ('Devils', 2015): Int64Index([3], dtype='int64'), ('Kings', 2014): Int64Index([4], dtype='int64'), ('Kings', 2016): Int64Index([6], dtype='int64'), ('Kings', 2017): Int64Index([7], dtype='int64'), ('Riders', 2014): Int64Index([0], dtype='int64'), ('Riders', 2015): Int64Index([1], dtype='int64'), ('Riders', 2016): Int64Index([8], dtype='int64'), ('Riders', 2017): Int64Index([11], dtype='int64'), ('Royals', 2014): Int64Index([9], dtype='int64'), ('Royals', 2015): Int64Index([10], dtype='int64'), ('kings', 2015): Int64Index([5], dtype='int64')}\n"
     ]
    }
   ],
   "source": [
    "#按多列分组 \n",
    "print(df.groupby(['Team','Year']).groups)"
   ]
  },
  {
   "cell_type": "markdown",
   "metadata": {},
   "source": [
    "# 迭代遍历分组\n",
    "使用groupby对象，可以遍历类似itertools.obj的对象。"
   ]
  },
  {
   "cell_type": "code",
   "execution_count": 20,
   "metadata": {},
   "outputs": [
    {
     "name": "stdout",
     "output_type": "stream",
     "text": [
      "2014\n",
      "     Team  Rank  Year  Points\n",
      "0  Riders     1  2014     876\n",
      "2  Devils     2  2014     863\n",
      "4   Kings     3  2014     741\n",
      "9  Royals     4  2014     701\n",
      "2015\n",
      "      Team  Rank  Year  Points\n",
      "1   Riders     2  2015     789\n",
      "3   Devils     3  2015     673\n",
      "5    kings     4  2015     812\n",
      "10  Royals     1  2015     804\n",
      "2016\n",
      "     Team  Rank  Year  Points\n",
      "6   Kings     1  2016     756\n",
      "8  Riders     2  2016     694\n",
      "2017\n",
      "      Team  Rank  Year  Points\n",
      "7    Kings     1  2017     788\n",
      "11  Riders     2  2017     690\n"
     ]
    }
   ],
   "source": [
    "grouped = df.groupby('Year')\n",
    "\n",
    "for i,j in grouped:\n",
    "    print(i)\n",
    "    print(j)\n",
    " # 默认情况下，groupby对象具有与分组名相同的标签名称"
   ]
  },
  {
   "cell_type": "markdown",
   "metadata": {},
   "source": [
    "# 选择一个分组\n",
    "使用get_group()方法，可以选择一个组。"
   ]
  },
  {
   "cell_type": "code",
   "execution_count": 21,
   "metadata": {},
   "outputs": [
    {
     "name": "stdout",
     "output_type": "stream",
     "text": [
      "     Team  Rank  Year  Points\n",
      "0  Riders     1  2014     876\n",
      "2  Devils     2  2014     863\n",
      "4   Kings     3  2014     741\n",
      "9  Royals     4  2014     701\n"
     ]
    }
   ],
   "source": [
    "print(grouped.get_group(2014))"
   ]
  },
  {
   "cell_type": "markdown",
   "metadata": {},
   "source": [
    "# 聚合\n",
    "聚合函数为每个组返回单个聚合值。当创建了分组(group by)对象，就可以对分组数据执行多个聚合操作。\n",
    "一个比较常用的是通过聚合或等效的agg方法聚合 \n",
    "我们要对分组数据进行多种计算，比如要同时计算各组数据的平均数、标准差、总数等等，这时候用agg()就比较好了。"
   ]
  },
  {
   "cell_type": "code",
   "execution_count": 22,
   "metadata": {},
   "outputs": [
    {
     "name": "stdout",
     "output_type": "stream",
     "text": [
      "Year\n",
      "2014    795.25\n",
      "2015    769.50\n",
      "2016    725.00\n",
      "2017    739.00\n",
      "Name: Points, dtype: float64\n"
     ]
    }
   ],
   "source": [
    "print(grouped['Points'].agg(np.mean))"
   ]
  },
  {
   "cell_type": "code",
   "execution_count": null,
   "metadata": {
    "collapsed": true
   },
   "outputs": [],
   "source": [
    "data2014 = grouped.get_group(2014)\n",
    "print(data2014)"
   ]
  },
  {
   "cell_type": "code",
   "execution_count": null,
   "metadata": {
    "collapsed": true
   },
   "outputs": [],
   "source": [
    "#另一种查看每个分组的大小的方法是应用size()函数 -\n",
    "grouped = df.groupby('Team')\n",
    "print(grouped.agg(np.size))"
   ]
  },
  {
   "cell_type": "markdown",
   "metadata": {},
   "source": [
    "# 一次应用多个聚合函数\n",
    "通过分组系列，还可以传递函数的列表或字典来进行聚合，并生成DataFrame作为输出"
   ]
  },
  {
   "cell_type": "code",
   "execution_count": 1,
   "metadata": {},
   "outputs": [
    {
     "ename": "NameError",
     "evalue": "name 'df' is not defined",
     "output_type": "error",
     "traceback": [
      "\u001b[1;31m---------------------------------------------------------------------------\u001b[0m",
      "\u001b[1;31mNameError\u001b[0m                                 Traceback (most recent call last)",
      "\u001b[1;32m<ipython-input-1-13497cee2913>\u001b[0m in \u001b[0;36m<module>\u001b[1;34m()\u001b[0m\n\u001b[1;32m----> 1\u001b[1;33m \u001b[0mgrouped\u001b[0m \u001b[1;33m=\u001b[0m \u001b[0mdf\u001b[0m\u001b[1;33m.\u001b[0m\u001b[0mgroupby\u001b[0m\u001b[1;33m(\u001b[0m\u001b[1;34m'Team'\u001b[0m\u001b[1;33m)\u001b[0m\u001b[1;33m\u001b[0m\u001b[0m\n\u001b[0m\u001b[0;32m      2\u001b[0m \u001b[0magg\u001b[0m \u001b[1;33m=\u001b[0m \u001b[0mgrouped\u001b[0m\u001b[1;33m[\u001b[0m\u001b[1;34m'Points'\u001b[0m\u001b[1;33m]\u001b[0m\u001b[1;33m.\u001b[0m\u001b[0magg\u001b[0m\u001b[1;33m(\u001b[0m\u001b[1;33m[\u001b[0m\u001b[0mnp\u001b[0m\u001b[1;33m.\u001b[0m\u001b[0msum\u001b[0m\u001b[1;33m,\u001b[0m \u001b[0mnp\u001b[0m\u001b[1;33m.\u001b[0m\u001b[0mmean\u001b[0m\u001b[1;33m,\u001b[0m \u001b[0mnp\u001b[0m\u001b[1;33m.\u001b[0m\u001b[0mstd\u001b[0m\u001b[1;33m]\u001b[0m\u001b[1;33m)\u001b[0m\u001b[1;33m\u001b[0m\u001b[0m\n\u001b[0;32m      3\u001b[0m \u001b[0mprint\u001b[0m\u001b[1;33m(\u001b[0m\u001b[0magg\u001b[0m\u001b[1;33m)\u001b[0m\u001b[1;33m\u001b[0m\u001b[0m\n",
      "\u001b[1;31mNameError\u001b[0m: name 'df' is not defined"
     ]
    }
   ],
   "source": [
    "grouped = df.groupby('Team')\n",
    "agg = grouped['Points'].agg([np.sum, np.mean, np.std])\n",
    "print(agg)"
   ]
  },
  {
   "cell_type": "markdown",
   "metadata": {},
   "source": [
    "# query"
   ]
  },
  {
   "cell_type": "code",
   "execution_count": 4,
   "metadata": {},
   "outputs": [
    {
     "name": "stdout",
     "output_type": "stream",
     "text": [
      "   name     sex  age\n",
      "0  xiao    male   23\n",
      "1   dan  female   24\n",
      "2    qi    male   24\n"
     ]
    }
   ],
   "source": [
    "d={\n",
    "    'name':['xiao','dan','qi'],\n",
    "    'sex':['male','female','male'],\n",
    "    'age':[23,24,24]\n",
    "}\n",
    "df0=pd.DataFrame(d)\n",
    "print(df0)"
   ]
  },
  {
   "cell_type": "code",
   "execution_count": 5,
   "metadata": {},
   "outputs": [
    {
     "name": "stdout",
     "output_type": "stream",
     "text": [
      "  name     sex  age\n",
      "1  dan  female   24\n",
      "2   qi    male   24\n"
     ]
    }
   ],
   "source": [
    "print(df0.query(\"age==24\"))\n"
   ]
  },
  {
   "cell_type": "code",
   "execution_count": null,
   "metadata": {
    "collapsed": true
   },
   "outputs": [],
   "source": [
    "#注意： query后面只支持string形式的值，而‘age’==24返回的是一个bool类型，结果不是true就是false，所以需要进行如下操作，才可返回正确结果"
   ]
  },
  {
   "cell_type": "markdown",
   "metadata": {},
   "source": [
    "# pandas.cut 小结\n",
    "    pandas.cut(x, bins, right=True, labels=None, retbins=False, precision=3, \n",
    "            include_lowest=False, duplicates='raise')\n",
    "    切割一维的数组，如连续的年龄segment成年龄段\n",
    "    x:一维的数组\n",
    "    bins：int，标量的序列，pandas的intervalindex\n",
    "    right：Boolean默认是True，表示范围包含右边缘的值否\n",
    "    labels：数组，bool，任意值，返回值的label\n",
    "    retbins：返回bins与否，当bins是标量时无效\n",
    "    precision：展示bins的数量\n",
    "    include_lowest:分开的是左闭合区间与否\n",
    "    duplicates:If bin edges are not unique, raise ValueError or drop non-uniques.\n",
    "    "
   ]
  },
  {
   "cell_type": "code",
   "execution_count": 6,
   "metadata": {},
   "outputs": [
    {
     "name": "stdout",
     "output_type": "stream",
     "text": [
      "[20, 22, 25, 27, 21, 23, 37, 31, 61, 45, 41, 32]\n",
      "[young, young, young, a, young, ..., a, old, b, b, a]\n",
      "Length: 12\n",
      "Categories (4, object): [young < a < b < old]\n"
     ]
    }
   ],
   "source": [
    "ages = [20, 22, 25, 27, 21, 23, 37, 31, 61, 45, 41, 32]\n",
    "print(ages)\n",
    "bins = [18, 25, 35, 60, 100]\n",
    "labels = ['young','a','b','old']\n",
    "age1 = pd.cut(ages,bins,labels=labels)\n",
    "print(age1)"
   ]
  },
  {
   "cell_type": "markdown",
   "metadata": {},
   "source": [
    "# 表连接 表合并"
   ]
  },
  {
   "cell_type": "code",
   "execution_count": 7,
   "metadata": {},
   "outputs": [
    {
     "name": "stdout",
     "output_type": "stream",
     "text": [
      "   id    Name subject_id\n",
      "0   1    Alex       sub1\n",
      "1   2     Amy       sub2\n",
      "2   3   Allen       sub4\n",
      "3   4   Alice       sub6\n",
      "4   5  Ayoung       sub5\n",
      "========================================\n",
      "   id   Name subject_id\n",
      "0   1  Billy       sub2\n",
      "1   2  Brian       sub4\n",
      "2   3   Bran       sub3\n",
      "3   4  Bryce       sub6\n",
      "4   5  Betty       sub5\n"
     ]
    }
   ],
   "source": [
    "import pandas as pd\n",
    "left = pd.DataFrame({\n",
    "         'id':[1,2,3,4,5],\n",
    "         'Name': ['Alex', 'Amy', 'Allen', 'Alice', 'Ayoung'],\n",
    "         'subject_id':['sub1','sub2','sub4','sub6','sub5']})\n",
    "right = pd.DataFrame(\n",
    "         {'id':[1,2,3,4,5],\n",
    "         'Name': ['Billy', 'Brian', 'Bran', 'Bryce', 'Betty'],\n",
    "         'subject_id':['sub2','sub4','sub3','sub6','sub5']})\n",
    "print(left)\n",
    "print(\"========================================\")\n",
    "print(right)"
   ]
  },
  {
   "cell_type": "code",
   "execution_count": 8,
   "metadata": {},
   "outputs": [
    {
     "name": "stdout",
     "output_type": "stream",
     "text": [
      "   id  Name_x subject_id_x Name_y subject_id_y\n",
      "0   1    Alex         sub1  Billy         sub2\n",
      "1   2     Amy         sub2  Brian         sub4\n",
      "2   3   Allen         sub4   Bran         sub3\n",
      "3   4   Alice         sub6  Bryce         sub6\n",
      "4   5  Ayoung         sub5  Betty         sub5\n"
     ]
    }
   ],
   "source": [
    "# 在一个键上合并两个数据帧\n",
    "rs = pd.merge(left,right,on='id')\n",
    "print(rs)"
   ]
  },
  {
   "cell_type": "code",
   "execution_count": 9,
   "metadata": {},
   "outputs": [
    {
     "name": "stdout",
     "output_type": "stream",
     "text": [
      "   id  Name_x subject_id Name_y\n",
      "0   4   Alice       sub6  Bryce\n",
      "1   5  Ayoung       sub5  Betty\n"
     ]
    }
   ],
   "source": [
    "#合并多个键上的两个数据框  一定要看懂  \n",
    "rs = pd.merge(left,right,on=['id','subject_id'])\n",
    "print(rs)\n"
   ]
  },
  {
   "cell_type": "markdown",
   "metadata": {},
   "source": [
    "# 表 合并使用“how”的参数\n",
    "如何合并参数指定如何确定哪些键将被包含在结果表中。\n",
    "如果组合键没有出现在左侧或右侧表中，则连接表中的值将为NA。\n",
    "这里是how选项和SQL等效名称的总结\n",
    "合并方法\tSQL等效\t描述\n",
    "left\tLEFT OUTER JOIN\t    使用左侧对象的键\n",
    "right\tRIGHT OUTER JOIN\t使用右侧对象的键\n",
    "outer\tFULL OUTER JOIN  \t使用键的联合\n",
    "inner\tINNER JOIN\t        使用键的交集\n"
   ]
  },
  {
   "cell_type": "code",
   "execution_count": 10,
   "metadata": {},
   "outputs": [
    {
     "name": "stdout",
     "output_type": "stream",
     "text": [
      "   id    Name subject_id\n",
      "0   1    Alex       sub1\n",
      "1   2     Amy       sub2\n",
      "2   3   Allen       sub4\n",
      "3   4   Alice       sub6\n",
      "4   5  Ayoung       sub5\n",
      "---------------------------\n",
      "   id   Name subject_id\n",
      "0   1  Billy       sub2\n",
      "1   2  Brian       sub4\n",
      "2   3   Bran       sub3\n",
      "3   4  Bryce       sub6\n",
      "4   5  Betty       sub5\n"
     ]
    }
   ],
   "source": [
    "import pandas as pd\n",
    "left = pd.DataFrame({\n",
    "         'id':[1,2,3,4,5],\n",
    "         'Name': ['Alex', 'Amy', 'Allen', 'Alice', 'Ayoung'],\n",
    "         'subject_id':['sub1','sub2','sub4','sub6','sub5']})\n",
    "right = pd.DataFrame(\n",
    "         {'id':[1,2,3,4,5],\n",
    "         'Name': ['Billy', 'Brian', 'Bran', 'Bryce', 'Betty'],\n",
    "         'subject_id':['sub2','sub4','sub3','sub6','sub5']})\n",
    "print(left)\n",
    "print(\"---------------------------\")\n",
    "print(right)"
   ]
  },
  {
   "cell_type": "markdown",
   "metadata": {},
   "source": [
    "# Left Join示例"
   ]
  },
  {
   "cell_type": "code",
   "execution_count": 11,
   "metadata": {},
   "outputs": [
    {
     "name": "stdout",
     "output_type": "stream",
     "text": [
      "   id_x  Name_x subject_id  id_y Name_y\n",
      "0     1    Alex       sub1   NaN    NaN\n",
      "1     2     Amy       sub2   1.0  Billy\n",
      "2     3   Allen       sub4   2.0  Brian\n",
      "3     4   Alice       sub6   4.0  Bryce\n",
      "4     5  Ayoung       sub5   5.0  Betty\n"
     ]
    }
   ],
   "source": [
    "rs = pd.merge(left, right, on='subject_id', how='left')\n",
    "print(rs)​subject_id\n",
    "#以subject_id为连接键，以左侧的为准，没有的填NaN,\n"
   ]
  },
  {
   "cell_type": "markdown",
   "metadata": {},
   "source": [
    "# Right Join示例"
   ]
  },
  {
   "cell_type": "code",
   "execution_count": 13,
   "metadata": {},
   "outputs": [
    {
     "name": "stdout",
     "output_type": "stream",
     "text": [
      "   id    Name subject_id\n",
      "0   1    Alex       sub1\n",
      "1   2     Amy       sub2\n",
      "2   3   Allen       sub4\n",
      "3   4   Alice       sub6\n",
      "4   5  Ayoung       sub5\n",
      "---------------------------\n",
      "   id   Name subject_id\n",
      "0   1  Billy       sub2\n",
      "1   2  Brian       sub4\n",
      "2   3   Bran       sub3\n",
      "3   4  Bryce       sub6\n",
      "4   5  Betty       sub5\n"
     ]
    }
   ],
   "source": [
    "import pandas as pd\n",
    "left = pd.DataFrame({\n",
    "         'id':[1,2,3,4,5],\n",
    "         'Name': ['Alex', 'Amy', 'Allen', 'Alice', 'Ayoung'],\n",
    "         'subject_id':['sub1','sub2','sub4','sub6','sub5']})\n",
    "right = pd.DataFrame(\n",
    "         {'id':[1,2,3,4,5],\n",
    "         'Name': ['Billy', 'Brian', 'Bran', 'Bryce', 'Betty'],\n",
    "         'subject_id':['sub2','sub4','sub3','sub6','sub5']})\n",
    "print(left)\n",
    "print(\"---------------------------\")\n",
    "print(right)"
   ]
  },
  {
   "cell_type": "code",
   "execution_count": 15,
   "metadata": {},
   "outputs": [
    {
     "name": "stdout",
     "output_type": "stream",
     "text": [
      "   id_x  Name_x subject_id  id_y Name_y\n",
      "0   2.0     Amy       sub2     1  Billy\n",
      "1   3.0   Allen       sub4     2  Brian\n",
      "2   4.0   Alice       sub6     4  Bryce\n",
      "3   5.0  Ayoung       sub5     5  Betty\n",
      "4   NaN     NaN       sub3     3   Bran\n"
     ]
    }
   ],
   "source": [
    "rs = pd.merge(left, right, on='subject_id', how='right')\n",
    "print(rs)"
   ]
  },
  {
   "cell_type": "code",
   "execution_count": null,
   "metadata": {
    "collapsed": true
   },
   "outputs": [],
   "source": []
  }
 ],
 "metadata": {
  "kernelspec": {
   "display_name": "Python 3",
   "language": "python",
   "name": "python3"
  },
  "language_info": {
   "codemirror_mode": {
    "name": "ipython",
    "version": 3
   },
   "file_extension": ".py",
   "mimetype": "text/x-python",
   "name": "python",
   "nbconvert_exporter": "python",
   "pygments_lexer": "ipython3",
   "version": "3.6.4"
  }
 },
 "nbformat": 4,
 "nbformat_minor": 2
}
